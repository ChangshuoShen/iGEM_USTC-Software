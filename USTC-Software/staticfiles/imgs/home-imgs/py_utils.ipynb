{
 "cells": [
  {
   "cell_type": "code",
   "execution_count": 2,
   "metadata": {},
   "outputs": [],
   "source": [
    "from PIL import Image"
   ]
  },
  {
   "cell_type": "code",
   "execution_count": 13,
   "metadata": {},
   "outputs": [
    {
     "data": {
      "text/plain": [
       "((150, 150, 152), (2784, 1856))"
      ]
     },
     "execution_count": 13,
     "metadata": {},
     "output_type": "execute_result"
    }
   ],
   "source": [
    "# img_path = './banners/resources.png'\n",
    "# img_path = './banners/account.png'\n",
    "# img_path = './banners/community.png'\n",
    "# img_path = './banners/workflow.png'\n",
    "img_path = './banners/team.png'\n",
    "img = Image.open(img_path)\n",
    "# 图片尺寸\n",
    "# width, height = img.size\n",
    "# rgb_values = []\n",
    "\n",
    "# # 遍历图片的每个像素点，获取 RGB 值\n",
    "# for y in range(height):\n",
    "#     row = []\n",
    "#     for x in range(width):\n",
    "#         pixel_rgb = img.getpixel((x, y))\n",
    "#         row.append(pixel_rgb)\n",
    "#     rgb_values.append(row)\n",
    "    \n",
    "img.getpixel((3, 1700)), img.size"
   ]
  }
 ],
 "metadata": {
  "kernelspec": {
   "display_name": "base",
   "language": "python",
   "name": "python3"
  },
  "language_info": {
   "codemirror_mode": {
    "name": "ipython",
    "version": 3
   },
   "file_extension": ".py",
   "mimetype": "text/x-python",
   "name": "python",
   "nbconvert_exporter": "python",
   "pygments_lexer": "ipython3",
   "version": "3.11.5"
  }
 },
 "nbformat": 4,
 "nbformat_minor": 2
}
