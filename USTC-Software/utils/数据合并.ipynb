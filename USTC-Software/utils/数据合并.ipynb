{
 "cells": [
  {
   "cell_type": "code",
   "execution_count": 1,
   "metadata": {},
   "outputs": [
    {
     "name": "stdout",
     "output_type": "stream",
     "text": [
      "\n",
      "   ____            _     _    __                  \n",
      "  / __ \\____ ___  (_)___| |  / /__  _____________ \n",
      " / / / / __ `__ \\/ / ___/ | / / _ \\/ ___/ ___/ _ \\ \n",
      "/ /_/ / / / / / / / /__ | |/ /  __/ /  (__  )  __/ \n",
      "\\____/_/ /_/ /_/_/\\___/ |___/\\___/_/  /____/\\___/                                              \n",
      "\n",
      "Version: 1.6.3, Tutorials: https://omicverse.readthedocs.io/\n"
     ]
    },
    {
     "data": {
      "text/plain": [
       "array(['batch1', 'batch2', 'batch3', 'batch4', 'batch5', 'batch6',\n",
       "       'batch7', 'batch8'], dtype=object)"
      ]
     },
     "execution_count": 1,
     "metadata": {},
     "output_type": "execute_result"
    }
   ],
   "source": [
    "import omicverse as ov\n",
    "import scanpy as sc\n",
    "\n",
    "adata1=ov.read('1_gbm_EGAS00001002185.h5ad')\n",
    "adata1.obs['batch']='batch1'\n",
    "adata2=ov.read('2_gbm_github.h5ad')\n",
    "adata2.obs['batch']='batch2'\n",
    "adata3=ov.read('3_gbm_GSE173278.h5ad')\n",
    "adata3.obs['batch']='batch3'\n",
    "adata4=ov.read('4_gbm_GSE182109.h5ad')\n",
    "adata4.obs['batch']='batch4'\n",
    "adata5=ov.read('5_hcc_GSE112271.h5ad')  \n",
    "adata5.obs['batch']='batch5'\n",
    "adata6=ov.read('6_hcc_GSE149614.h5ad')\n",
    "adata6.obs['batch']='batch6'\n",
    "adata7=ov.read('7_hcc_GSE156625.h5ad')\n",
    "adata7.obs['batch']='batch7'\n",
    "adata8=ov.read('8_hcc_ihcca_GSE125449.h5ad')\n",
    "adata8.obs['batch']='batch8'\n",
    "\n",
    "#合并数据集\n",
    "adata=sc.concat([adata1,adata2,adata3,adata4,adata5,adata6,adata7,adata8],merge='same')\n",
    "adata.obs['batch'].unique()"
   ]
  },
  {
   "cell_type": "code",
   "execution_count": 2,
   "metadata": {},
   "outputs": [],
   "source": [
    "macrophage_data = adata[adata.obs['Celltype'] == 'Macrophage'].copy()"
   ]
  },
  {
   "cell_type": "code",
   "execution_count": 3,
   "metadata": {},
   "outputs": [],
   "source": [
    "import anndata as ad\n",
    "\n",
    "file_path = \"/home/labwork/macro.h5ad\"\n",
    "\n",
    "macrophage_data.write(file_path)"
   ]
  },
  {
   "cell_type": "code",
   "execution_count": 1,
   "metadata": {},
   "outputs": [
    {
     "ename": "NameError",
     "evalue": "name 'macrophage_data' is not defined",
     "output_type": "error",
     "traceback": [
      "\u001b[0;31m---------------------------------------------------------------------------\u001b[0m",
      "\u001b[0;31mNameError\u001b[0m                                 Traceback (most recent call last)",
      "Cell \u001b[0;32mIn[1], line 4\u001b[0m\n\u001b[1;32m      1\u001b[0m \u001b[38;5;28;01mimport\u001b[39;00m \u001b[38;5;21;01mnumpy\u001b[39;00m \u001b[38;5;28;01mas\u001b[39;00m \u001b[38;5;21;01mnp\u001b[39;00m\n\u001b[1;32m      3\u001b[0m \u001b[38;5;66;03m# 假设批次信息存储在 adata.obs['batch'] 中\u001b[39;00m\n\u001b[0;32m----> 4\u001b[0m batch_info \u001b[38;5;241m=\u001b[39m \u001b[43mmacrophage_data\u001b[49m\u001b[38;5;241m.\u001b[39mobs[\u001b[38;5;124m'\u001b[39m\u001b[38;5;124mbatch\u001b[39m\u001b[38;5;124m'\u001b[39m]\n\u001b[1;32m      6\u001b[0m \u001b[38;5;66;03m# 使用 numpy 的 unique() 方法查看批次信息的类别\u001b[39;00m\n\u001b[1;32m      7\u001b[0m unique_batches \u001b[38;5;241m=\u001b[39m np\u001b[38;5;241m.\u001b[39munique(batch_info)\n",
      "\u001b[0;31mNameError\u001b[0m: name 'macrophage_data' is not defined"
     ]
    }
   ],
   "source": [
    "import numpy as np\n",
    "\n",
    "# 假设批次信息存储在 adata.obs['batch'] 中\n",
    "batch_info = macrophage_data.obs['batch']\n",
    "\n",
    "# 使用 numpy 的 unique() 方法查看批次信息的类别\n",
    "unique_batches = np.unique(batch_info)\n",
    "print(unique_batches)"
   ]
  }
 ],
 "metadata": {
  "kernelspec": {
   "display_name": "omicverse",
   "language": "python",
   "name": "python3"
  },
  "language_info": {
   "codemirror_mode": {
    "name": "ipython",
    "version": 3
   },
   "file_extension": ".py",
   "mimetype": "text/x-python",
   "name": "python",
   "nbconvert_exporter": "python",
   "pygments_lexer": "ipython3",
   "version": "3.8.19"
  }
 },
 "nbformat": 4,
 "nbformat_minor": 2
}
